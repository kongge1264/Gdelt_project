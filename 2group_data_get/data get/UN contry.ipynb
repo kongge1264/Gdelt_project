{
 "cells": [
  {
   "cell_type": "code",
   "execution_count": null,
   "id": "0f48dad5",
   "metadata": {},
   "outputs": [],
   "source": [
    "sci-hub\n",
    "web of science"
   ]
  },
  {
   "cell_type": "code",
   "execution_count": 58,
   "id": "6c4c52cd",
   "metadata": {},
   "outputs": [],
   "source": [
    "code_book = pd.read_csv('codebook.csv', header=None, sep=\"\t\")\n",
    "code_book.columns = ['country_name','country_code','Label','3','4','5','6','7']"
   ]
  },
  {
   "cell_type": "code",
   "execution_count": 61,
   "id": "5e3adf0f",
   "metadata": {},
   "outputs": [],
   "source": [
    "code_book[['country_name','country_code']].to_csv('code_book.csv',index = False)"
   ]
  },
  {
   "cell_type": "code",
   "execution_count": 86,
   "id": "b8150b29",
   "metadata": {},
   "outputs": [],
   "source": [
    "import pandas as pd\n",
    "counrty_pd = pd.DataFrame(country)\n",
    "counrty_pd.columns = ['country_name']\n",
    "#获取code类型之间映射\n",
    "code_book = pd.read_csv('codebook.csv', header=None, sep=\"\t\")\n",
    "code_book.columns = ['country_name','country_code','Label','3','4','5','6','7']\n",
    "code_book['country_name'] = code_book['country_name'].str.strip()\n",
    "APEC_country = pd.merge(counrty_pd, code_book, on='country_name',how='inner')\n",
    "#获取国家名code映射\n",
    "counrty_code = pd.read_csv('nodes.csv')\n",
    "#获取APEC国家总信息\n",
    "APEC_message = pd.merge(counrty_code, APEC_country, on='Label',how='inner')"
   ]
  },
  {
   "cell_type": "code",
   "execution_count": 131,
   "id": "f174544f",
   "metadata": {},
   "outputs": [],
   "source": [
    "#\n",
    "APEC_message = pd.read_csv('APEC_message.csv')"
   ]
  },
  {
   "cell_type": "code",
   "execution_count": 146,
   "id": "ceed35db",
   "metadata": {},
   "outputs": [],
   "source": [
    "#加入2020年人口\n",
    "APEC_message = pd.read_csv('APEC_message.csv')\n",
    "pop_2020 = pd.read_csv('2020population.csv', header=None, sep=\"\t\")\n",
    "pop_2020.columns = ['0','country_name','3','2019_Population','5']\n",
    "pop_2020[['country_name','2019_Population']]\n",
    "APEC_message = pd.merge(APEC_message, pop_2020, on='country_name',how='left')\n",
    "APEC_message = APEC_message[['country_name', 'country_code', 'Label', 'en_name', 'un_name', 'Lng',\n",
    "       'Lat', 'Country area (10,000 square kilometers)','2019_Population']]\n",
    "#加入台湾\n",
    "APEC_message.iloc[2,8] = '(23,603,000)'\n",
    "#APEC_message.to_csv('APEC_message.csv',index = False)\n",
    "\n",
    "#自定义函数提取括号内数字\n",
    "def num_get(x):\n",
    "    return x[x.find('(')+1:x.find(')')]\n",
    "APEC_message['2019_Population'] = APEC_message['2019_Population'].apply(lambda x: num_get(x))"
   ]
  },
  {
   "cell_type": "code",
   "execution_count": 181,
   "id": "2b8b3e2d",
   "metadata": {},
   "outputs": [],
   "source": [
    "APEC_message = pd.read_csv('APEC_message.csv')\n",
    "#加入GDP和增长\n",
    "GDP = pd.read_csv('2019_GDP.csv', header=None, sep=\"\t\")\n",
    "GDP.columns = ['0','country_name','3','2019_GDP(Dollar)','5']\n",
    "GDP = GDP[['country_name','2019_GDP(Dollar)']]\n",
    "GDP_rise = pd.read_csv('2019_GDP_rise.csv', header=None, sep=\"\t\")\n",
    "GDP_rise.columns = ['0','country_name','1','2019_GDP_rise']\n",
    "GDP_rise = GDP_rise[['country_name','2019_GDP_rise']]\n",
    "APEC_message = pd.merge(APEC_message, GDP_rise, on='country_name',how='left')\n",
    "APEC_message = pd.merge(APEC_message, GDP, on='country_name',how='left')\n",
    "#加入台湾\n",
    "APEC_message.iloc[2,9] = '2.73%'\n",
    "APEC_message.iloc[2,10] = '611,451,000,000'\n",
    "\n",
    "APEC_message['2019_GDP(Dollar)'] = APEC_message['2019_GDP(Dollar)'].apply(lambda x: num_get(x))"
   ]
  },
  {
   "cell_type": "code",
   "execution_count": 189,
   "id": "dfbc4c17",
   "metadata": {},
   "outputs": [],
   "source": [
    "APEC_message[['country_name',  'en_name', 'Lng',\n",
    "       'Lat', 'Country area (10,000 square kilometers)', '2019_Population',\n",
    "       '2019_GDP_rise', '2019_GDP(Dollar)']].to_csv('2020_APEC_message.csv',index = False)"
   ]
  },
  {
   "cell_type": "code",
   "execution_count": 89,
   "id": "3b61fe73",
   "metadata": {},
   "outputs": [],
   "source": [
    "APEC_country = pd.read_csv('APEC_country.csv')\n",
    "\n",
    "APEC_message = pd.merge(APEC_country, APEC_message[['country_name','Lng','Lat']], on='country_name',how='left')\n",
    "#加入地区大小\n",
    "APEC_message['Country area (10,000 square kilometers)'] = ''\n",
    "#"
   ]
  },
  {
   "cell_type": "code",
   "execution_count": 186,
   "id": "82ebd0ed",
   "metadata": {},
   "outputs": [
    {
     "data": {
      "text/plain": [
       "Index(['country_name', 'country_code', 'Label', 'en_name', 'un_name', 'Lng',\n",
       "       'Lat', 'Country area (10,000 square kilometers)', '2019_Population',\n",
       "       '2019_GDP_rise', '2019_GDP(Dollar)'],\n",
       "      dtype='object')"
      ]
     },
     "execution_count": 186,
     "metadata": {},
     "output_type": "execute_result"
    }
   ],
   "source": [
    "APEC_message.columns"
   ]
  },
  {
   "cell_type": "code",
   "execution_count": 42,
   "id": "7a4cf6cc",
   "metadata": {},
   "outputs": [],
   "source": [
    "tw_country_str = \"\"\"澳大利亚\n",
    "巴西\n",
    "加拿大\n",
    "智利\n",
    "印度\n",
    "日本\n",
    "韩国\n",
    "中国内地\n",
    "墨西哥\n",
    "新西兰\n",
    "台湾\n",
    "英国\n",
    "美国\"\"\"\n",
    "tw_country_list = tw_country_str.split('\\n')"
   ]
  },
  {
   "cell_type": "code",
   "execution_count": 38,
   "id": "7de62b20",
   "metadata": {},
   "outputs": [],
   "source": [
    "country_list = \"\"\"中国\n",
    "People's Republic of China\n",
    "中华人民共和国\n",
    "1991年11月\n",
    "香港\n",
    "Hong Kong， China\n",
    "中华人民共和国香港特别行政区\n",
    "1991年11月\n",
    "台湾\n",
    "ChineseTaipei\n",
    "中国台北\n",
    "1991年11月\n",
    "澳大利亚\n",
    "Australia\n",
    "澳大利亚联邦\n",
    "1989年11月\n",
    "文莱\n",
    "Brunei Darussalam\n",
    "文莱达鲁萨兰国\n",
    "1989年11月\n",
    "加拿大\n",
    "Canada\n",
    "加拿大\n",
    "1989年11月\n",
    "智利\n",
    "Chile\n",
    "智利共和国\n",
    "1994年11月\n",
    "印尼\n",
    "Indonesia\n",
    "印度尼西亚共和国\n",
    "1989年11月\n",
    "日本\n",
    "Japan\n",
    "日本国\n",
    "1989年11月\n",
    "韩国\n",
    "Republic of Korea\n",
    "大韩民国\n",
    "1989年11月\n",
    "马来西亚\n",
    "Malaysia\n",
    "马来西亚\n",
    "1989年11月\n",
    "墨西哥\n",
    "Mexico\n",
    "墨西哥合众国\n",
    "1993年11月\n",
    "新西兰\n",
    "New Zealand\n",
    "新西兰\n",
    "1989年11月\n",
    "秘鲁\n",
    "Peru\n",
    "秘鲁共和国\n",
    "1998年11月\n",
    "巴布亚新几内亚\n",
    "Papua New Guinea\n",
    "巴布亚新几内亚独立国\n",
    "1993年11月\n",
    "菲律宾\n",
    "The Philippines\n",
    "菲律宾共和国\n",
    "1989年11月\n",
    "俄罗斯\n",
    "Russia\n",
    "俄罗斯联邦\n",
    "1998年11月\n",
    "新加坡\n",
    "Singapore\n",
    "新加坡共和国\n",
    "1989年11月\n",
    "泰国\n",
    "Thailand\n",
    "泰王国\n",
    "1989年11月\n",
    "美国\n",
    "The United States\n",
    "美利坚合众国\n",
    "1989年11月\n",
    "越南\n",
    "Viet Nam\n",
    "越南社会主义共和国\n",
    "1999年11月\"\"\"\n",
    "country = []\n",
    "count = 0\n",
    "for i in country_list.split('\\n'):\n",
    "    if(count%4 == 0):\n",
    "        country.append(i)\n",
    "        \n",
    "    count += 1"
   ]
  }
 ],
 "metadata": {
  "kernelspec": {
   "display_name": "Python 3 (ipykernel)",
   "language": "python",
   "name": "python3"
  },
  "language_info": {
   "codemirror_mode": {
    "name": "ipython",
    "version": 3
   },
   "file_extension": ".py",
   "mimetype": "text/x-python",
   "name": "python",
   "nbconvert_exporter": "python",
   "pygments_lexer": "ipython3",
   "version": "3.9.12"
  }
 },
 "nbformat": 4,
 "nbformat_minor": 5
}
