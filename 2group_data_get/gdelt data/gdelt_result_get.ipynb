{
 "cells": [
  {
   "cell_type": "code",
   "execution_count": 2,
   "id": "758a9719",
   "metadata": {},
   "outputs": [],
   "source": [
    "import matplotlib.pyplot as plt\n",
    "import numpy as np\n",
    "import pandas as pd\n",
    "import matplotlib.dates as mdates"
   ]
  },
  {
   "cell_type": "code",
   "execution_count": 33,
   "id": "a29586e8",
   "metadata": {},
   "outputs": [],
   "source": [
    "#读取时间段的按月某国报道广告数目 1\n",
    "result = pd.read_csv('report_result_2.csv')\n",
    "result['monthdate'] = pd.to_numeric(result['monthdate'], downcast='integer')\n",
    "result['monthdate'] = pd.to_datetime(result['monthdate'].astype('str'),format = '%Y%m')\n",
    "\n",
    "#读取时间段的按月某国被报道广告数目 2\n",
    "result_reported = pd.read_csv('reported_result_2.csv')\n",
    "result_reported['monthdate'] = pd.to_numeric(result_reported['monthdate'], downcast='integer')\n",
    "result_reported['monthdate'] = pd.to_datetime(result_reported['monthdate'].astype('str'),format = '%Y%m')\n",
    "\n",
    "#读取时间段的按月报道广告总数目 3 \n",
    "month_nums = pd.read_csv('month_nums.csv')\n",
    "month_nums['monthdate'] = pd.to_numeric(month_nums['monthdate'], downcast='integer')\n",
    "month_nums['monthdate'] = pd.to_datetime(month_nums['monthdate'].astype('str'),format = '%Y%m')\n",
    "\n",
    "#读取时间段内按月报告本国的数目 4\n",
    "report_own_country = pd.read_csv('report_own_country.csv')\n",
    "report_own_country['monthdate'] = pd.to_numeric(report_own_country['monthdate'], downcast='integer')\n",
    "report_own_country['monthdate'] = pd.to_datetime(report_own_country['monthdate'].astype('str'),format = '%Y%m')\n"
   ]
  },
  {
   "cell_type": "code",
   "execution_count": 34,
   "id": "b88b2b00",
   "metadata": {},
   "outputs": [],
   "source": [
    "result_proportion = pd.DataFrame(columns=['monthdate','country_code','proportion'])\n",
    "row_num = 0\n",
    "#计算国家A占所有非国家A新闻中的百分比（例如提及美国的非美国新闻占所有非美国新闻的百分比）\n",
    "#(某国家被报道总数2 - 报道本国总数4)/(该月总报道书3 - 某国报道数1) ** 0.5\n",
    "for country in result['country_code'].unique():\n",
    "    for month in result['monthdate'].unique():\n",
    "        if(result[(result['monthdate'] == month) & (result['country_code'] == country)].empty == 0):\n",
    "            num1 = result[(result['monthdate'] == month) & (result['country_code'] == country)].iloc[0,2]\n",
    "        else:\n",
    "            num1 = 0\n",
    "            \n",
    "        num3 = month_nums[month_nums['monthdate'] == month].iloc[0,1]\n",
    "        \n",
    "        if(result_reported[(result_reported['monthdate'] == month) & (result_reported['report_code'] == country)].empty == 0):\n",
    "            num2 = result_reported[(result_reported['monthdate'] == month) & (result_reported['report_code'] == country)].iloc[0,2]\n",
    "        else:\n",
    "            num2 = 0\n",
    "        \n",
    "        if(report_own_country[(report_own_country['monthdate'] == month) & (report_own_country['report_code'] == country)].empty == 0):\n",
    "            num4 = report_own_country[(report_own_country['monthdate'] == month) & (report_own_country['report_code'] == country)].iloc[0,2]\n",
    "        else:\n",
    "            num4 = 0\n",
    "        \n",
    "        proportion = (num2 - num4)/(num3 - num1) \n",
    "        \n",
    "        #添加一行\n",
    "        result_proportion.loc[row_num] = [month,country,proportion]\n",
    "        row_num += 1"
   ]
  },
  {
   "cell_type": "code",
   "execution_count": 35,
   "id": "30f51ae5",
   "metadata": {},
   "outputs": [],
   "source": [
    "ex_month_total_id = result_proportion"
   ]
  },
  {
   "cell_type": "code",
   "execution_count": 39,
   "id": "45984510",
   "metadata": {},
   "outputs": [],
   "source": [
    "#保存结果\n",
    "new_dataframe = ex_month_total_id['country_code'].unique()\n",
    "new_dataframe.sort()\n",
    "result_frame = ['month']\n",
    "for i in new_dataframe:\n",
    "    result_frame.append(i)\n",
    "result_pd = pd.DataFrame(columns = result_frame)\n",
    "#将国家转化为列输出，空值为0\n",
    "export_data = ex_month_total_id[['monthdate','country_code','proportion']]\n",
    "for month in export_data['monthdate'].unique():\n",
    "    fill_country_list = [month]\n",
    "    for country in new_dataframe:\n",
    "        if(export_data[(export_data['monthdate'] == month) & (export_data['country_code'] == country)].empty == 0):\n",
    "            fill_country_list.append(export_data[(export_data['monthdate'] == month) & (export_data['country_code'] == country)].iloc[0,2])\n",
    "        else:\n",
    "            fill_country_list.append(0)\n",
    "    result_pd.loc[len(result_pd)] = fill_country_list"
   ]
  },
  {
   "cell_type": "code",
   "execution_count": 40,
   "id": "4b585b85",
   "metadata": {},
   "outputs": [],
   "source": [
    "result_pd.to_csv('201502_gdelt_reportnum.csv',index = False)"
   ]
  }
 ],
 "metadata": {
  "kernelspec": {
   "display_name": "Python 3 (ipykernel)",
   "language": "python",
   "name": "python3"
  },
  "language_info": {
   "codemirror_mode": {
    "name": "ipython",
    "version": 3
   },
   "file_extension": ".py",
   "mimetype": "text/x-python",
   "name": "python",
   "nbconvert_exporter": "python",
   "pygments_lexer": "ipython3",
   "version": "3.9.12"
  }
 },
 "nbformat": 4,
 "nbformat_minor": 5
}
