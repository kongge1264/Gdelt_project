{
 "cells": [
  {
   "cell_type": "code",
   "execution_count": null,
   "id": "ee5ac896",
   "metadata": {},
   "outputs": [],
   "source": [
    "#读取时间段的按月某国报道广告数目 1\n",
    "select \n",
    "FLOOR(date/100000000) as monthdate,\n",
    "A.country_code,\n",
    "sum(f0_) as numreporte\n",
    "from \n",
    "`dotted-marking-340807.test_20210101_202103031.wangyu_202101_202105_report_nums` A\n",
    "join `dotted-marking-340807.test_20210101_202103031.APEC_country` B on A.country_code = B.country_code\n",
    "where report_code is not null\n",
    "group by monthdate,\n",
    "A.country_code\n",
    "order by\n",
    "monthdate,\n",
    "A.country_code\n",
    "#读取时间段内按月报告本国的数目 4\n",
    "select\n",
    "FLOOR(date/100000000) as monthdate,\n",
    "A.country_code,\n",
    "report_code,\n",
    "sum(f0_) as report_nums\n",
    "from \n",
    "`dotted-marking-340807.test_20210101_202103031.wangyu_202101_202105_report_nums` A\n",
    "join `dotted-marking-340807.test_20210101_202103031.APEC_country` B on A.country_code = B.country_code\n",
    "group by\n",
    " monthdate,\n",
    "A.country_code,\n",
    "report_code"
   ]
  },
  {
   "cell_type": "code",
   "execution_count": null,
   "id": "7a40ea0f",
   "metadata": {},
   "outputs": [],
   "source": [
    "#获取2015到2021年各个国家按月占比数据\n",
    "select\n",
    "A.monthdate,\n",
    "A.country_code,\n",
    "report_code,\n",
    "report_nums/numreporte as report_portation\n",
    "from\n",
    "(\n",
    "select\n",
    "FLOOR(date/100000000) as monthdate,\n",
    "A.country_code,\n",
    "report_code,\n",
    "sum(f0_) as report_nums\n",
    "from \n",
    "`dotted-marking-340807.test_20210101_202103031.wangyu_202101_202105_report_nums` A\n",
    "join `dotted-marking-340807.test_20210101_202103031.APEC_country` B on A.country_code = B.country_code\n",
    "group by\n",
    " monthdate,\n",
    "A.country_code,\n",
    "report_code\n",
    ")A join\n",
    "(\n",
    "select \n",
    "FLOOR(date/100000000) as monthdate,\n",
    "A.country_code,\n",
    "sum(f0_) as numreporte\n",
    "from \n",
    "`dotted-marking-340807.test_20210101_202103031.wangyu_202101_202105_report_nums` A\n",
    "group by monthdate,\n",
    "A.country_code\n",
    "order by\n",
    "monthdate,\n",
    "A.country_code\n",
    ")B on A.monthdate = B.monthdate and A.country_code = B.country_code"
   ]
  }
 ],
 "metadata": {
  "kernelspec": {
   "display_name": "Python 3 (ipykernel)",
   "language": "python",
   "name": "python3"
  },
  "language_info": {
   "codemirror_mode": {
    "name": "ipython",
    "version": 3
   },
   "file_extension": ".py",
   "mimetype": "text/x-python",
   "name": "python",
   "nbconvert_exporter": "python",
   "pygments_lexer": "ipython3",
   "version": "3.9.12"
  }
 },
 "nbformat": 4,
 "nbformat_minor": 5
}
