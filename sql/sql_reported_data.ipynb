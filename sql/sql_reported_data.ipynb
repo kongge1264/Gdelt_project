{
 "cells": [
  {
   "cell_type": "code",
   "execution_count": null,
   "id": "775c7f83",
   "metadata": {},
   "outputs": [],
   "source": [
    "#获取15年1月到21年5月，全部国家，报道国家，和被报道两个国家的包含数据，按天报道数据。\n",
    "select \n",
    "date,\n",
    "C.country_code,\n",
    "substring(V2Locations,instr(V2Locations,'#',1,2)+1,instr(V2Locations,'#',1,3)-instr(V2Locations,'#',1,2)-1) as report_code_1,\n",
    "(case when instr(V2Locations,';',1,1) = 0 then ''\n",
    "else substring(V2Locations,instr(V2Locations,'#',instr(V2Locations,';',1,1),2)+1,instr(V2Locations,'#',instr(V2Locations,';',1,1),3)-instr(V2Locations,'#',1,2)-1)  end) as report_code_2,\n",
    "count(*) as nums\n",
    "from \n",
    "`dotted-marking-340807.test_20210101_202103031.url_to_country` C \n",
    "join `gdelt-bq.gdeltv2.gkg` D \n",
    "on C.url = D.SourceCommonName\n",
    "join `dotted-marking-340807.test_20210101_202103031.wangyu_201906_202105_source_table` B \n",
    "on B.SourceCommonName = D.SourceCommonName\n",
    "and D.DATE between 20110100000000 and 20210532000000\n",
    "group by \n",
    "date,\n",
    "C.country_code,\n",
    "report_code_1,\n",
    "report_code_2\n"
   ]
  },
  {
   "cell_type": "code",
   "execution_count": null,
   "id": "5ffbfcd7",
   "metadata": {},
   "outputs": [],
   "source": [
    "#将国家排序重排\n",
    "select \n",
    "date,\n",
    "country_code,\n",
    "(case when report_code_1 > report_code_2 then report_code_1 else report_code_2 end) as report_code_1,\n",
    "(case when report_code_1 > report_code_2 then report_code_2 else report_code_1 end) as report_code_2,\n",
    "f0_ as nums\n",
    "from \n",
    "`dotted-marking-340807.test_20210101_202103031.wangyu_201501_202105_reported2_data`"
   ]
  },
  {
   "cell_type": "code",
   "execution_count": null,
   "id": "cc2a8b2e",
   "metadata": {},
   "outputs": [],
   "source": [
    "#查询20年共同提及国家的数据\n",
    "select\n",
    "monthdate,\n",
    "A.en_name,\n",
    "B.en_name,\n",
    "report_nums\n",
    "from\n",
    "(\n",
    "select\n",
    "FLOOR(date/100000000) as monthdate,\n",
    "en_name,\n",
    "report_code_2,\n",
    "sum(nums) as report_nums\n",
    "from \n",
    "`dotted-marking-340807.test_20210101_202103031.wangyu_201501_202105_reported2_datasort` A\n",
    "join `dotted-marking-340807.test_20210101_202103031.APEC_country` B on A.report_code_1 = B.country_code\n",
    "group by\n",
    "monthdate,\n",
    "en_name,\n",
    "report_code_2) A join `dotted-marking-340807.test_20210101_202103031.APEC_country` B on A.report_code_2 = B.country_code\n",
    "where monthdate >= 201502 \n",
    "and   monthdate <= 202105 \n",
    "order by\n",
    "monthdate,\n",
    "A.en_name,\n",
    "B.en_name"
   ]
  },
  {
   "cell_type": "code",
   "execution_count": null,
   "id": "3caf3104",
   "metadata": {},
   "outputs": [],
   "source": [
    "#查询20年报道国家的数据\n",
    "select\n",
    "monthdate,\n",
    "A.en_name,\n",
    "B.en_name,\n",
    "report_nums\n",
    "from\n",
    "(\n",
    "select\n",
    "FLOOR(date/100000000) as monthdate,\n",
    "en_name,\n",
    "report_code,\n",
    "sum(f0_) as report_nums\n",
    "from \n",
    "`dotted-marking-340807.test_20210101_202103031.wangyu_202101_202105_report_nums` A\n",
    "join `dotted-marking-340807.test_20210101_202103031.APEC_country` B on A.country_code = B.country_code\n",
    "group by\n",
    "monthdate,\n",
    "en_name,\n",
    "report_code) A join `dotted-marking-340807.test_20210101_202103031.APEC_country` B on A.report_code = B.country_code\n",
    "where monthdate >= 201502 \n",
    "and   monthdate <= 202105 \n",
    "order by\n",
    "monthdate,\n",
    "A.en_name,\n",
    "B.en_name\n",
    "\n",
    "\n",
    "#进查询2017年"
   ]
  }
 ],
 "metadata": {
  "kernelspec": {
   "display_name": "Python 3 (ipykernel)",
   "language": "python",
   "name": "python3"
  },
  "language_info": {
   "codemirror_mode": {
    "name": "ipython",
    "version": 3
   },
   "file_extension": ".py",
   "mimetype": "text/x-python",
   "name": "python",
   "nbconvert_exporter": "python",
   "pygments_lexer": "ipython3",
   "version": "3.9.12"
  }
 },
 "nbformat": 4,
 "nbformat_minor": 5
}
